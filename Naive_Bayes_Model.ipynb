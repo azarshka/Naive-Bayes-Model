{
  "nbformat": 4,
  "nbformat_minor": 0,
  "metadata": {
    "colab": {
      "provenance": []
    },
    "kernelspec": {
      "name": "python3",
      "display_name": "Python 3"
    },
    "language_info": {
      "name": "python"
    }
  },
  "cells": [
    {
      "cell_type": "code",
      "execution_count": null,
      "metadata": {
        "id": "Y0mzZZ-LNV6T"
      },
      "outputs": [],
      "source": []
    },
    {
      "cell_type": "markdown",
      "source": [
        "# Install Spark"
      ],
      "metadata": {
        "id": "EUVObJ0rqeN4"
      }
    },
    {
      "cell_type": "code",
      "source": [
        "!pip3 install pyspark"
      ],
      "metadata": {
        "colab": {
          "base_uri": "https://localhost:8080/"
        },
        "id": "HZZ5F8v7qWRK",
        "outputId": "70756464-ed3a-439d-a7da-e45d89b5bdab"
      },
      "execution_count": null,
      "outputs": [
        {
          "output_type": "stream",
          "name": "stdout",
          "text": [
            "Requirement already satisfied: pyspark in /usr/local/lib/python3.10/dist-packages (3.5.1)\n",
            "Requirement already satisfied: py4j==0.10.9.7 in /usr/local/lib/python3.10/dist-packages (from pyspark) (0.10.9.7)\n"
          ]
        }
      ]
    },
    {
      "cell_type": "markdown",
      "source": [
        "# Donwload libraries"
      ],
      "metadata": {
        "id": "9bg-DGvvqhTe"
      }
    },
    {
      "cell_type": "code",
      "source": [
        "from pyspark.sql import SparkSession\n",
        "from pyspark.ml.feature import StringIndexer, VectorAssembler, StandardScaler, MinMaxScaler, RobustScaler\n",
        "from pyspark.ml.classification import NaiveBayes\n",
        "from pyspark.ml.evaluation import MulticlassClassificationEvaluator\n"
      ],
      "metadata": {
        "id": "z8uSP2vxqkT8"
      },
      "execution_count": null,
      "outputs": []
    },
    {
      "cell_type": "markdown",
      "source": [
        "# Initialize SparkSession"
      ],
      "metadata": {
        "id": "OyV-kEFFqtqP"
      }
    },
    {
      "cell_type": "code",
      "source": [
        "# Initialize SparkSession\n",
        "spark = SparkSession.builder \\\n",
        "                    .appName(\"NaiveBayesClassifierExample\") \\\n",
        "                    .master(\"local[*]\") \\\n",
        "                    .config(\"spark.executor.memory\", \"4g\") \\\n",
        "                    .config(\"spark.driver.memory\", \"2g\") \\\n",
        "                    .config(\"spark.executor.cores\", \"2\") \\\n",
        "                    .config(\"spark.sql.inMemoryColumnarStorage.compressed\", \"true\") \\\n",
        "                    .getOrCreate()\n",
        "\n",
        "spark"
      ],
      "metadata": {
        "colab": {
          "base_uri": "https://localhost:8080/",
          "height": 222
        },
        "id": "TC4ZHURDqtQR",
        "outputId": "5822a7f2-9eec-424f-efb8-bedfc2551361"
      },
      "execution_count": null,
      "outputs": [
        {
          "output_type": "execute_result",
          "data": {
            "text/plain": [
              "<pyspark.sql.session.SparkSession at 0x7d8950a69930>"
            ],
            "text/html": [
              "\n",
              "            <div>\n",
              "                <p><b>SparkSession - in-memory</b></p>\n",
              "                \n",
              "        <div>\n",
              "            <p><b>SparkContext</b></p>\n",
              "\n",
              "            <p><a href=\"http://6425c0daabf3:4040\">Spark UI</a></p>\n",
              "\n",
              "            <dl>\n",
              "              <dt>Version</dt>\n",
              "                <dd><code>v3.5.1</code></dd>\n",
              "              <dt>Master</dt>\n",
              "                <dd><code>local[*]</code></dd>\n",
              "              <dt>AppName</dt>\n",
              "                <dd><code>KNNClassifierExample</code></dd>\n",
              "            </dl>\n",
              "        </div>\n",
              "        \n",
              "            </div>\n",
              "        "
            ]
          },
          "metadata": {},
          "execution_count": 86
        }
      ]
    },
    {
      "cell_type": "markdown",
      "source": [
        "# Load and preprocess the data"
      ],
      "metadata": {
        "id": "0_OpFDMdrD5U"
      }
    },
    {
      "cell_type": "code",
      "source": [
        "# Load the compressed file as a text file\n",
        "df = spark.read.csv(\"/content/kddcup.data_10_percent.gz\", header = False)"
      ],
      "metadata": {
        "id": "TZ0O6ANOq-vL"
      },
      "execution_count": null,
      "outputs": []
    },
    {
      "cell_type": "code",
      "source": [
        "df.show(5)"
      ],
      "metadata": {
        "colab": {
          "base_uri": "https://localhost:8080/"
        },
        "id": "YjIDQqy6uaMI",
        "outputId": "8eced205-f6ca-4f13-89dd-03c0500a194a"
      },
      "execution_count": null,
      "outputs": [
        {
          "output_type": "stream",
          "name": "stdout",
          "text": [
            "+---+---+----+---+---+----+---+---+---+---+----+----+----+----+----+----+----+----+----+----+----+----+----+----+----+----+----+----+----+----+----+----+----+----+----+----+----+----+----+----+----+-------+\n",
            "|_c0|_c1| _c2|_c3|_c4| _c5|_c6|_c7|_c8|_c9|_c10|_c11|_c12|_c13|_c14|_c15|_c16|_c17|_c18|_c19|_c20|_c21|_c22|_c23|_c24|_c25|_c26|_c27|_c28|_c29|_c30|_c31|_c32|_c33|_c34|_c35|_c36|_c37|_c38|_c39|_c40|   _c41|\n",
            "+---+---+----+---+---+----+---+---+---+---+----+----+----+----+----+----+----+----+----+----+----+----+----+----+----+----+----+----+----+----+----+----+----+----+----+----+----+----+----+----+----+-------+\n",
            "|  0|tcp|http| SF|181|5450|  0|  0|  0|  0|   0|   1|   0|   0|   0|   0|   0|   0|   0|   0|   0|   0|   8|   8|0.00|0.00|0.00|0.00|1.00|0.00|0.00|   9|   9|1.00|0.00|0.11|0.00|0.00|0.00|0.00|0.00|normal.|\n",
            "|  0|tcp|http| SF|239| 486|  0|  0|  0|  0|   0|   1|   0|   0|   0|   0|   0|   0|   0|   0|   0|   0|   8|   8|0.00|0.00|0.00|0.00|1.00|0.00|0.00|  19|  19|1.00|0.00|0.05|0.00|0.00|0.00|0.00|0.00|normal.|\n",
            "|  0|tcp|http| SF|235|1337|  0|  0|  0|  0|   0|   1|   0|   0|   0|   0|   0|   0|   0|   0|   0|   0|   8|   8|0.00|0.00|0.00|0.00|1.00|0.00|0.00|  29|  29|1.00|0.00|0.03|0.00|0.00|0.00|0.00|0.00|normal.|\n",
            "|  0|tcp|http| SF|219|1337|  0|  0|  0|  0|   0|   1|   0|   0|   0|   0|   0|   0|   0|   0|   0|   0|   6|   6|0.00|0.00|0.00|0.00|1.00|0.00|0.00|  39|  39|1.00|0.00|0.03|0.00|0.00|0.00|0.00|0.00|normal.|\n",
            "|  0|tcp|http| SF|217|2032|  0|  0|  0|  0|   0|   1|   0|   0|   0|   0|   0|   0|   0|   0|   0|   0|   6|   6|0.00|0.00|0.00|0.00|1.00|0.00|0.00|  49|  49|1.00|0.00|0.02|0.00|0.00|0.00|0.00|0.00|normal.|\n",
            "+---+---+----+---+---+----+---+---+---+---+----+----+----+----+----+----+----+----+----+----+----+----+----+----+----+----+----+----+----+----+----+----+----+----+----+----+----+----+----+----+----+-------+\n",
            "only showing top 5 rows\n",
            "\n"
          ]
        }
      ]
    },
    {
      "cell_type": "code",
      "source": [
        "# more info\n",
        "print(df.count())\n",
        "print(df.rdd.getNumPartitions())\n"
      ],
      "metadata": {
        "colab": {
          "base_uri": "https://localhost:8080/"
        },
        "id": "_5ZgsirpuerJ",
        "outputId": "0d10b259-1ccd-4645-fbcb-a398220ec563"
      },
      "execution_count": null,
      "outputs": [
        {
          "output_type": "stream",
          "name": "stdout",
          "text": [
            "494021\n",
            "1\n"
          ]
        }
      ]
    },
    {
      "cell_type": "code",
      "source": [
        "\n",
        "\n",
        "df = df.repartition(2)\n",
        "df.rdd.getNumPartitions()\n",
        "\n"
      ],
      "metadata": {
        "colab": {
          "base_uri": "https://localhost:8080/"
        },
        "id": "B8Ce4okOpjuy",
        "outputId": "f83963a3-fa5e-4cb1-a583-afd32b02b813"
      },
      "execution_count": null,
      "outputs": [
        {
          "output_type": "execute_result",
          "data": {
            "text/plain": [
              "2"
            ]
          },
          "metadata": {},
          "execution_count": 66
        }
      ]
    },
    {
      "cell_type": "code",
      "source": [],
      "metadata": {
        "id": "u49YGvS6p3Pe"
      },
      "execution_count": null,
      "outputs": []
    },
    {
      "cell_type": "markdown",
      "source": [
        "# Add header"
      ],
      "metadata": {
        "id": "jWpQz04kp0nR"
      }
    },
    {
      "cell_type": "code",
      "source": [
        "df = df.withColumnRenamed(\"_c0\",\"duration\") \\\n",
        "      .withColumnRenamed(\"_c1\",\"protocol_type\")\\\n",
        "      .withColumnRenamed(\"_c2\",\"service\")\\\n",
        "      .withColumnRenamed(\"_c3\",\"flag\")\\\n",
        "      .withColumnRenamed(\"_c4\",\"src_bytes\")\\\n",
        "      .withColumnRenamed(\"_c5\",\"dst_bytes\")\\\n",
        "      .withColumnRenamed(\"_c6\",\"land\")\\\n",
        "      .withColumnRenamed(\"_c7\",\"wrong_fragment\")\\\n",
        "      .withColumnRenamed(\"_c8\",\"urgent\")\\\n",
        "      .withColumnRenamed(\"_c9\",\"host\")\\\n",
        "      .withColumnRenamed(\"_c10\",\"num_failed_logins\")\\\n",
        "      .withColumnRenamed(\"_c11\",\"logged_in\")\\\n",
        "      .withColumnRenamed(\"_c12\",\"num_compromised\")\\\n",
        "      .withColumnRenamed(\"_c13\",\"root_shell\")\\\n",
        "      .withColumnRenamed(\"_c14\",\"su_attempted\")\\\n",
        "      .withColumnRenamed(\"_c15\",\"num_root\")\\\n",
        "      .withColumnRenamed(\"_c16\",\"num_file_creations\")\\\n",
        "      .withColumnRenamed(\"_c17\",\"num_shells\")\\\n",
        "      .withColumnRenamed(\"_c18\",\"num_access_files\")\\\n",
        "      .withColumnRenamed(\"_c19\",\"num_outbound_cmds\")\\\n",
        "      .withColumnRenamed(\"_c20\",\"is_host_login\")\\\n",
        "      .withColumnRenamed(\"_c21\",\"is_guest_login\")\\\n",
        "      .withColumnRenamed(\"_c22\",\"count\")\\\n",
        "      .withColumnRenamed(\"_c23\",\"srv_count\")\\\n",
        "      .withColumnRenamed(\"_c24\",\"serror_rate\")\\\n",
        "      .withColumnRenamed(\"_c25\",\"srv_serror_rate\")\\\n",
        "      .withColumnRenamed(\"_c26\",\"rerror_rate\")\\\n",
        "      .withColumnRenamed(\"_c27\",\"srv_rerror_rate\")\\\n",
        "      .withColumnRenamed(\"_c28\",\"same_srv_rate\")\\\n",
        "      .withColumnRenamed(\"_c29\",\"diff_srv_rate\")\\\n",
        "      .withColumnRenamed(\"_c30\",\"srv_diff_host_rate\")\\\n",
        "      .withColumnRenamed(\"_c31\",\"dst_host_count\")\\\n",
        "      .withColumnRenamed(\"_c32\",\"dst_host_srv_count\")\\\n",
        "      .withColumnRenamed(\"_c33\",\"dst_host_same_srv_rate\")\\\n",
        "      .withColumnRenamed(\"_c34\",\"dst_host_diff_srv_rate\")\\\n",
        "      .withColumnRenamed(\"_c35\",\"dst_host_same_src_port_rate\")\\\n",
        "      .withColumnRenamed(\"_c36\",\"dst_host_srv_diff_host_rate\")\\\n",
        "      .withColumnRenamed(\"_c37\",\"dst_host_serror_rate\")\\\n",
        "      .withColumnRenamed(\"_c38\",\"dst_host_srv_serror_rate\")\\\n",
        "      .withColumnRenamed(\"_c39\",\"dst_host_rerror_rate\")\\\n",
        "      .withColumnRenamed(\"_c40\",\"dst_host_srv_rerror_rate\")\\\n",
        "      .withColumnRenamed(\"_c41\",\"connection_status\")\n",
        "\n",
        "df.show(5)"
      ],
      "metadata": {
        "colab": {
          "base_uri": "https://localhost:8080/"
        },
        "id": "NxOn7JXhp2Jt",
        "outputId": "4108b22f-6582-4b22-c23d-ab6361f28679"
      },
      "execution_count": null,
      "outputs": [
        {
          "output_type": "stream",
          "name": "stdout",
          "text": [
            "+--------+-------------+--------+----+---------+---------+----+--------------+------+----+-----------------+---------+---------------+----------+------------+--------+------------------+----------+----------------+-----------------+-------------+--------------+-----+---------+-----------+---------------+-----------+---------------+-------------+-------------+------------------+--------------+------------------+----------------------+----------------------+---------------------------+---------------------------+--------------------+------------------------+--------------------+------------------------+-----------------+\n",
            "|duration|protocol_type| service|flag|src_bytes|dst_bytes|land|wrong_fragment|urgent|host|num_failed_logins|logged_in|num_compromised|root_shell|su_attempted|num_root|num_file_creations|num_shells|num_access_files|num_outbound_cmds|is_host_login|is_guest_login|count|srv_count|serror_rate|srv_serror_rate|rerror_rate|srv_rerror_rate|same_srv_rate|diff_srv_rate|srv_diff_host_rate|dst_host_count|dst_host_srv_count|dst_host_same_srv_rate|dst_host_diff_srv_rate|dst_host_same_src_port_rate|dst_host_srv_diff_host_rate|dst_host_serror_rate|dst_host_srv_serror_rate|dst_host_rerror_rate|dst_host_srv_rerror_rate|connection_status|\n",
            "+--------+-------------+--------+----+---------+---------+----+--------------+------+----+-----------------+---------+---------------+----------+------------+--------+------------------+----------+----------------+-----------------+-------------+--------------+-----+---------+-----------+---------------+-----------+---------------+-------------+-------------+------------------+--------------+------------------+----------------------+----------------------+---------------------------+---------------------------+--------------------+------------------------+--------------------+------------------------+-----------------+\n",
            "|       0|          tcp|ftp_data|  SF|     7233|        0|   0|             0|     0|   0|                0|        1|              0|         0|           0|       0|                 0|         0|               0|                0|            0|             0|    8|        4|       0.00|           0.00|       0.00|           0.00|         0.50|         0.38|              0.00|           255|                10|                  0.04|                  0.34|                       0.04|                       0.00|                0.00|                    0.00|                0.00|                    0.00|          normal.|\n",
            "|       0|          tcp| private| REJ|        0|        0|   0|             0|     0|   0|                0|        0|              0|         0|           0|       0|                 0|         0|               0|                0|            0|             0|  137|        4|       0.00|           0.00|       1.00|           1.00|         0.03|         0.06|              0.00|           255|                 4|                  0.02|                  0.05|                       0.00|                       0.00|                0.00|                    0.00|                1.00|                    1.00|         neptune.|\n",
            "|       0|         icmp|   ecr_i|  SF|     1032|        0|   0|             0|     0|   0|                0|        0|              0|         0|           0|       0|                 0|         0|               0|                0|            0|             0|  250|      250|       0.00|           0.00|       0.00|           0.00|         1.00|         0.00|              0.00|           255|               255|                  1.00|                  0.00|                       1.00|                       0.00|                0.00|                    0.00|                0.00|                    0.00|           smurf.|\n",
            "|       0|          tcp| private| REJ|        0|        0|   0|             0|     0|   0|                0|        0|              0|         0|           0|       0|                 0|         0|               0|                0|            0|             0|   61|       10|       0.00|           0.00|       1.00|           1.00|         0.16|         0.08|              0.00|           255|                10|                  0.04|                  0.06|                       0.00|                       0.00|                0.00|                    0.00|                1.00|                    1.00|         neptune.|\n",
            "|       0|          tcp|    http|  SF|      328|      535|   0|             0|     0|   0|                0|        1|              0|         0|           0|       0|                 0|         0|               0|                0|            0|             0|    6|        6|       0.00|           0.00|       0.00|           0.00|         1.00|         0.00|              0.00|           169|               255|                  1.00|                  0.00|                       0.01|                       0.03|                0.00|                    0.00|                0.00|                    0.00|          normal.|\n",
            "+--------+-------------+--------+----+---------+---------+----+--------------+------+----+-----------------+---------+---------------+----------+------------+--------+------------------+----------+----------------+-----------------+-------------+--------------+-----+---------+-----------+---------------+-----------+---------------+-------------+-------------+------------------+--------------+------------------+----------------------+----------------------+---------------------------+---------------------------+--------------------+------------------------+--------------------+------------------------+-----------------+\n",
            "only showing top 5 rows\n",
            "\n"
          ]
        }
      ]
    },
    {
      "cell_type": "markdown",
      "source": [
        "\n",
        "# Check the Multi-class labels (Multi-label classification)"
      ],
      "metadata": {
        "id": "T93z3qTHqdIC"
      }
    },
    {
      "cell_type": "code",
      "source": [
        "# Check the Multi-class labels (Multi-label classification)\n",
        "df.select(\"connection_status\").distinct().show(30)\n",
        "\n"
      ],
      "metadata": {
        "colab": {
          "base_uri": "https://localhost:8080/"
        },
        "id": "DBtMMNbry3Re",
        "outputId": "280446c9-c5f0-47c9-d0f4-3a76e5ebee0a"
      },
      "execution_count": null,
      "outputs": [
        {
          "output_type": "stream",
          "name": "stdout",
          "text": [
            "+-----------------+\n",
            "|connection_status|\n",
            "+-----------------+\n",
            "|     warezmaster.|\n",
            "|           smurf.|\n",
            "|             pod.|\n",
            "|            nmap.|\n",
            "|            imap.|\n",
            "|    guess_passwd.|\n",
            "|         ipsweep.|\n",
            "|       portsweep.|\n",
            "|           satan.|\n",
            "|            land.|\n",
            "|      loadmodule.|\n",
            "|       ftp_write.|\n",
            "| buffer_overflow.|\n",
            "|         rootkit.|\n",
            "|     warezclient.|\n",
            "|        teardrop.|\n",
            "|            perl.|\n",
            "|             phf.|\n",
            "|        multihop.|\n",
            "|         neptune.|\n",
            "|            back.|\n",
            "|             spy.|\n",
            "|          normal.|\n",
            "+-----------------+\n",
            "\n"
          ]
        }
      ]
    },
    {
      "cell_type": "markdown",
      "source": [
        "# Count labels"
      ],
      "metadata": {
        "id": "uaKrSVqzBRtG"
      }
    },
    {
      "cell_type": "code",
      "source": [
        "# Count the labels\n",
        "df.groupBy(\"connection_status\").count().orderBy('count', ascending = False).show()\n",
        "\n"
      ],
      "metadata": {
        "colab": {
          "base_uri": "https://localhost:8080/"
        },
        "id": "bzqIIusN3wPO",
        "outputId": "0566fe74-27af-45d8-89ab-12045dd92340"
      },
      "execution_count": null,
      "outputs": [
        {
          "output_type": "stream",
          "name": "stdout",
          "text": [
            "+-----------------+------+\n",
            "|connection_status| count|\n",
            "+-----------------+------+\n",
            "|           smurf.|280790|\n",
            "|         neptune.|107201|\n",
            "|          normal.| 97278|\n",
            "|            back.|  2203|\n",
            "|           satan.|  1589|\n",
            "|         ipsweep.|  1247|\n",
            "|       portsweep.|  1040|\n",
            "|     warezclient.|  1020|\n",
            "|        teardrop.|   979|\n",
            "|             pod.|   264|\n",
            "|            nmap.|   231|\n",
            "|    guess_passwd.|    53|\n",
            "| buffer_overflow.|    30|\n",
            "|            land.|    21|\n",
            "|     warezmaster.|    20|\n",
            "|            imap.|    12|\n",
            "|         rootkit.|    10|\n",
            "|      loadmodule.|     9|\n",
            "|       ftp_write.|     8|\n",
            "|        multihop.|     7|\n",
            "+-----------------+------+\n",
            "only showing top 20 rows\n",
            "\n"
          ]
        }
      ]
    },
    {
      "cell_type": "markdown",
      "source": [
        "## StringIndexer for other features"
      ],
      "metadata": {
        "id": "YSWcCPGZ4FtZ"
      }
    },
    {
      "cell_type": "code",
      "source": [
        "# StringIndexer for other features\n",
        "#to map labels into indices\n",
        "indexer = StringIndexer(inputCol = 'connection_status', outputCol = 'label')\n",
        "df = indexer.fit(df).transform(df)\n",
        "\n"
      ],
      "metadata": {
        "id": "rUYHnINW4HVT"
      },
      "execution_count": null,
      "outputs": []
    },
    {
      "cell_type": "code",
      "source": [
        "\n",
        "df.groupBy(\"label\").count().orderBy('count', ascending = False).show()"
      ],
      "metadata": {
        "colab": {
          "base_uri": "https://localhost:8080/"
        },
        "id": "_d8HuHrOsvTA",
        "outputId": "8dd36738-0e41-4e59-b62c-fbf2efaefab8"
      },
      "execution_count": null,
      "outputs": [
        {
          "output_type": "stream",
          "name": "stdout",
          "text": [
            "+-----+------+\n",
            "|label| count|\n",
            "+-----+------+\n",
            "|  0.0|280790|\n",
            "|  1.0|107201|\n",
            "|  2.0| 97278|\n",
            "|  3.0|  2203|\n",
            "|  4.0|  1589|\n",
            "|  5.0|  1247|\n",
            "|  6.0|  1040|\n",
            "|  7.0|  1020|\n",
            "|  8.0|   979|\n",
            "|  9.0|   264|\n",
            "| 10.0|   231|\n",
            "| 11.0|    53|\n",
            "| 12.0|    30|\n",
            "| 13.0|    21|\n",
            "| 14.0|    20|\n",
            "| 15.0|    12|\n",
            "| 16.0|    10|\n",
            "| 17.0|     9|\n",
            "| 18.0|     8|\n",
            "| 19.0|     7|\n",
            "+-----+------+\n",
            "only showing top 20 rows\n",
            "\n"
          ]
        }
      ]
    },
    {
      "cell_type": "markdown",
      "source": [
        "# string indexer for other features that are categorical"
      ],
      "metadata": {
        "id": "KfeJDbSNtJ_k"
      }
    },
    {
      "cell_type": "code",
      "source": [
        "columns_to_index = [\"protocol_type\", \"service\", \"flag\", \"connection_status\"]\n",
        "\n",
        "for column in columns_to_index:\n",
        "  indexer = StringIndexer(inputCol = column, outputCol = column + '_id')\n",
        "  df = indexer.fit(df).transform(df)\n",
        "\n",
        "df.show(5)\n"
      ],
      "metadata": {
        "colab": {
          "base_uri": "https://localhost:8080/"
        },
        "id": "OVa4103Qq9ZX",
        "outputId": "7811cfde-9eaa-4211-877c-1ec676479703"
      },
      "execution_count": null,
      "outputs": [
        {
          "output_type": "stream",
          "name": "stdout",
          "text": [
            "+--------+-------------+--------+----+---------+---------+----+--------------+------+----+-----------------+---------+---------------+----------+------------+--------+------------------+----------+----------------+-----------------+-------------+--------------+-----+---------+-----------+---------------+-----------+---------------+-------------+-------------+------------------+--------------+------------------+----------------------+----------------------+---------------------------+---------------------------+--------------------+------------------------+--------------------+------------------------+-----------------+-----+-----------------+-----------+---------------------+----------------+----------+-------+--------------------+\n",
            "|duration|protocol_type| service|flag|src_bytes|dst_bytes|land|wrong_fragment|urgent|host|num_failed_logins|logged_in|num_compromised|root_shell|su_attempted|num_root|num_file_creations|num_shells|num_access_files|num_outbound_cmds|is_host_login|is_guest_login|count|srv_count|serror_rate|srv_serror_rate|rerror_rate|srv_rerror_rate|same_srv_rate|diff_srv_rate|srv_diff_host_rate|dst_host_count|dst_host_srv_count|dst_host_same_srv_rate|dst_host_diff_srv_rate|dst_host_same_src_port_rate|dst_host_srv_diff_host_rate|dst_host_serror_rate|dst_host_srv_serror_rate|dst_host_rerror_rate|dst_host_srv_rerror_rate|connection_status|label|protocol_type_ind|service_ind|connection_status_ind|protocol_type_id|service_id|flag_id|connection_status_id|\n",
            "+--------+-------------+--------+----+---------+---------+----+--------------+------+----+-----------------+---------+---------------+----------+------------+--------+------------------+----------+----------------+-----------------+-------------+--------------+-----+---------+-----------+---------------+-----------+---------------+-------------+-------------+------------------+--------------+------------------+----------------------+----------------------+---------------------------+---------------------------+--------------------+------------------------+--------------------+------------------------+-----------------+-----+-----------------+-----------+---------------------+----------------+----------+-------+--------------------+\n",
            "|       0|          tcp|ftp_data|  SF|     7233|        0|   0|             0|     0|   0|                0|        1|              0|         0|           0|       0|                 0|         0|               0|                0|            0|             0|    8|        4|       0.00|           0.00|       0.00|           0.00|         0.50|         0.38|              0.00|           255|                10|                  0.04|                  0.34|                       0.04|                       0.00|                0.00|                    0.00|                0.00|                    0.00|          normal.|  2.0|              1.0|        6.0|                  2.0|             1.0|       6.0|    0.0|                 2.0|\n",
            "|       0|          tcp| private| REJ|        0|        0|   0|             0|     0|   0|                0|        0|              0|         0|           0|       0|                 0|         0|               0|                0|            0|             0|  137|        4|       0.00|           0.00|       1.00|           1.00|         0.03|         0.06|              0.00|           255|                 4|                  0.02|                  0.05|                       0.00|                       0.00|                0.00|                    0.00|                1.00|                    1.00|         neptune.|  1.0|              1.0|        1.0|                  1.0|             1.0|       1.0|    2.0|                 1.0|\n",
            "|       0|         icmp|   ecr_i|  SF|     1032|        0|   0|             0|     0|   0|                0|        0|              0|         0|           0|       0|                 0|         0|               0|                0|            0|             0|  250|      250|       0.00|           0.00|       0.00|           0.00|         1.00|         0.00|              0.00|           255|               255|                  1.00|                  0.00|                       1.00|                       0.00|                0.00|                    0.00|                0.00|                    0.00|           smurf.|  0.0|              0.0|        0.0|                  0.0|             0.0|       0.0|    0.0|                 0.0|\n",
            "|       0|          tcp| private| REJ|        0|        0|   0|             0|     0|   0|                0|        0|              0|         0|           0|       0|                 0|         0|               0|                0|            0|             0|   61|       10|       0.00|           0.00|       1.00|           1.00|         0.16|         0.08|              0.00|           255|                10|                  0.04|                  0.06|                       0.00|                       0.00|                0.00|                    0.00|                1.00|                    1.00|         neptune.|  1.0|              1.0|        1.0|                  1.0|             1.0|       1.0|    2.0|                 1.0|\n",
            "|       0|          tcp|    http|  SF|      328|      535|   0|             0|     0|   0|                0|        1|              0|         0|           0|       0|                 0|         0|               0|                0|            0|             0|    6|        6|       0.00|           0.00|       0.00|           0.00|         1.00|         0.00|              0.00|           169|               255|                  1.00|                  0.00|                       0.01|                       0.03|                0.00|                    0.00|                0.00|                    0.00|          normal.|  2.0|              1.0|        2.0|                  2.0|             1.0|       2.0|    0.0|                 2.0|\n",
            "+--------+-------------+--------+----+---------+---------+----+--------------+------+----+-----------------+---------+---------------+----------+------------+--------+------------------+----------+----------------+-----------------+-------------+--------------+-----+---------+-----------+---------------+-----------+---------------+-------------+-------------+------------------+--------------+------------------+----------------------+----------------------+---------------------------+---------------------------+--------------------+------------------------+--------------------+------------------------+-----------------+-----+-----------------+-----------+---------------------+----------------+----------+-------+--------------------+\n",
            "only showing top 5 rows\n",
            "\n"
          ]
        }
      ]
    },
    {
      "cell_type": "code",
      "source": [
        "# drop unnessary features\n",
        "exclude_cols = [\"protocol_type\", \"service\", \"flag\", \"connection_status\"]\n",
        "input_cols = [col for col in df.columns if col not in exclude_cols]\n",
        "df = df[input_cols]\n",
        "\n",
        "df.show(2)"
      ],
      "metadata": {
        "colab": {
          "base_uri": "https://localhost:8080/"
        },
        "id": "08ygIQxTxDvG",
        "outputId": "1259a965-0656-401d-8fc3-5b1be86c1dfa"
      },
      "execution_count": null,
      "outputs": [
        {
          "output_type": "stream",
          "name": "stdout",
          "text": [
            "+--------+---------+---------+----+--------------+------+----+-----------------+---------+---------------+----------+------------+--------+------------------+----------+----------------+-----------------+-------------+--------------+-----+---------+-----------+---------------+-----------+---------------+-------------+-------------+------------------+--------------+------------------+----------------------+----------------------+---------------------------+---------------------------+--------------------+------------------------+--------------------+------------------------+-----+-----------------+-----------+---------------------+----------------+----------+-------+--------------------+\n",
            "|duration|src_bytes|dst_bytes|land|wrong_fragment|urgent|host|num_failed_logins|logged_in|num_compromised|root_shell|su_attempted|num_root|num_file_creations|num_shells|num_access_files|num_outbound_cmds|is_host_login|is_guest_login|count|srv_count|serror_rate|srv_serror_rate|rerror_rate|srv_rerror_rate|same_srv_rate|diff_srv_rate|srv_diff_host_rate|dst_host_count|dst_host_srv_count|dst_host_same_srv_rate|dst_host_diff_srv_rate|dst_host_same_src_port_rate|dst_host_srv_diff_host_rate|dst_host_serror_rate|dst_host_srv_serror_rate|dst_host_rerror_rate|dst_host_srv_rerror_rate|label|protocol_type_ind|service_ind|connection_status_ind|protocol_type_id|service_id|flag_id|connection_status_id|\n",
            "+--------+---------+---------+----+--------------+------+----+-----------------+---------+---------------+----------+------------+--------+------------------+----------+----------------+-----------------+-------------+--------------+-----+---------+-----------+---------------+-----------+---------------+-------------+-------------+------------------+--------------+------------------+----------------------+----------------------+---------------------------+---------------------------+--------------------+------------------------+--------------------+------------------------+-----+-----------------+-----------+---------------------+----------------+----------+-------+--------------------+\n",
            "|       0|     7233|        0|   0|             0|     0|   0|                0|        1|              0|         0|           0|       0|                 0|         0|               0|                0|            0|             0|    8|        4|       0.00|           0.00|       0.00|           0.00|         0.50|         0.38|              0.00|           255|                10|                  0.04|                  0.34|                       0.04|                       0.00|                0.00|                    0.00|                0.00|                    0.00|  2.0|              1.0|        6.0|                  2.0|             1.0|       6.0|    0.0|                 2.0|\n",
            "|       0|        0|        0|   0|             0|     0|   0|                0|        0|              0|         0|           0|       0|                 0|         0|               0|                0|            0|             0|  137|        4|       0.00|           0.00|       1.00|           1.00|         0.03|         0.06|              0.00|           255|                 4|                  0.02|                  0.05|                       0.00|                       0.00|                0.00|                    0.00|                1.00|                    1.00|  1.0|              1.0|        1.0|                  1.0|             1.0|       1.0|    2.0|                 1.0|\n",
            "+--------+---------+---------+----+--------------+------+----+-----------------+---------+---------------+----------+------------+--------+------------------+----------+----------------+-----------------+-------------+--------------+-----+---------+-----------+---------------+-----------+---------------+-------------+-------------+------------------+--------------+------------------+----------------------+----------------------+---------------------------+---------------------------+--------------------+------------------------+--------------------+------------------------+-----+-----------------+-----------+---------------------+----------------+----------+-------+--------------------+\n",
            "only showing top 2 rows\n",
            "\n"
          ]
        }
      ]
    },
    {
      "cell_type": "markdown",
      "source": [
        "# Vector Assembler"
      ],
      "metadata": {
        "id": "QA4hLCGz1lJn"
      }
    },
    {
      "cell_type": "code",
      "source": [
        "df.printSchema()"
      ],
      "metadata": {
        "colab": {
          "base_uri": "https://localhost:8080/"
        },
        "id": "vuFghuLWBOdu",
        "outputId": "a509a428-2521-4e27-fbe6-29462c3071d7"
      },
      "execution_count": null,
      "outputs": [
        {
          "output_type": "stream",
          "name": "stdout",
          "text": [
            "root\n",
            " |-- duration: string (nullable = true)\n",
            " |-- src_bytes: string (nullable = true)\n",
            " |-- dst_bytes: string (nullable = true)\n",
            " |-- land: string (nullable = true)\n",
            " |-- wrong_fragment: string (nullable = true)\n",
            " |-- urgent: string (nullable = true)\n",
            " |-- host: string (nullable = true)\n",
            " |-- num_failed_logins: string (nullable = true)\n",
            " |-- logged_in: string (nullable = true)\n",
            " |-- num_compromised: string (nullable = true)\n",
            " |-- root_shell: string (nullable = true)\n",
            " |-- su_attempted: string (nullable = true)\n",
            " |-- num_root: string (nullable = true)\n",
            " |-- num_file_creations: string (nullable = true)\n",
            " |-- num_shells: string (nullable = true)\n",
            " |-- num_access_files: string (nullable = true)\n",
            " |-- num_outbound_cmds: string (nullable = true)\n",
            " |-- is_host_login: string (nullable = true)\n",
            " |-- is_guest_login: string (nullable = true)\n",
            " |-- count: string (nullable = true)\n",
            " |-- srv_count: string (nullable = true)\n",
            " |-- serror_rate: string (nullable = true)\n",
            " |-- srv_serror_rate: string (nullable = true)\n",
            " |-- rerror_rate: string (nullable = true)\n",
            " |-- srv_rerror_rate: string (nullable = true)\n",
            " |-- same_srv_rate: string (nullable = true)\n",
            " |-- diff_srv_rate: string (nullable = true)\n",
            " |-- srv_diff_host_rate: string (nullable = true)\n",
            " |-- dst_host_count: string (nullable = true)\n",
            " |-- dst_host_srv_count: string (nullable = true)\n",
            " |-- dst_host_same_srv_rate: string (nullable = true)\n",
            " |-- dst_host_diff_srv_rate: string (nullable = true)\n",
            " |-- dst_host_same_src_port_rate: string (nullable = true)\n",
            " |-- dst_host_srv_diff_host_rate: string (nullable = true)\n",
            " |-- dst_host_serror_rate: string (nullable = true)\n",
            " |-- dst_host_srv_serror_rate: string (nullable = true)\n",
            " |-- dst_host_rerror_rate: string (nullable = true)\n",
            " |-- dst_host_srv_rerror_rate: string (nullable = true)\n",
            " |-- label: double (nullable = false)\n",
            " |-- protocol_type_ind: double (nullable = false)\n",
            " |-- service_ind: double (nullable = false)\n",
            " |-- connection_status_ind: double (nullable = false)\n",
            " |-- protocol_type_id: double (nullable = false)\n",
            " |-- service_id: double (nullable = false)\n",
            " |-- flag_id: double (nullable = false)\n",
            " |-- connection_status_id: double (nullable = false)\n",
            "\n"
          ]
        }
      ]
    },
    {
      "cell_type": "code",
      "source": [
        "df.show(5)  # Show first 5 rows"
      ],
      "metadata": {
        "colab": {
          "base_uri": "https://localhost:8080/"
        },
        "id": "wReeZihCBeXU",
        "outputId": "95a72c13-d4d0-4659-e35a-d68a2a4b1a94"
      },
      "execution_count": null,
      "outputs": [
        {
          "output_type": "stream",
          "name": "stdout",
          "text": [
            "+--------+---------+---------+----+--------------+------+----+-----------------+---------+---------------+----------+------------+--------+------------------+----------+----------------+-----------------+-------------+--------------+-----+---------+-----------+---------------+-----------+---------------+-------------+-------------+------------------+--------------+------------------+----------------------+----------------------+---------------------------+---------------------------+--------------------+------------------------+--------------------+------------------------+-----+-----------------+-----------+---------------------+----------------+----------+-------+--------------------+\n",
            "|duration|src_bytes|dst_bytes|land|wrong_fragment|urgent|host|num_failed_logins|logged_in|num_compromised|root_shell|su_attempted|num_root|num_file_creations|num_shells|num_access_files|num_outbound_cmds|is_host_login|is_guest_login|count|srv_count|serror_rate|srv_serror_rate|rerror_rate|srv_rerror_rate|same_srv_rate|diff_srv_rate|srv_diff_host_rate|dst_host_count|dst_host_srv_count|dst_host_same_srv_rate|dst_host_diff_srv_rate|dst_host_same_src_port_rate|dst_host_srv_diff_host_rate|dst_host_serror_rate|dst_host_srv_serror_rate|dst_host_rerror_rate|dst_host_srv_rerror_rate|label|protocol_type_ind|service_ind|connection_status_ind|protocol_type_id|service_id|flag_id|connection_status_id|\n",
            "+--------+---------+---------+----+--------------+------+----+-----------------+---------+---------------+----------+------------+--------+------------------+----------+----------------+-----------------+-------------+--------------+-----+---------+-----------+---------------+-----------+---------------+-------------+-------------+------------------+--------------+------------------+----------------------+----------------------+---------------------------+---------------------------+--------------------+------------------------+--------------------+------------------------+-----+-----------------+-----------+---------------------+----------------+----------+-------+--------------------+\n",
            "|       0|     7233|        0|   0|             0|     0|   0|                0|        1|              0|         0|           0|       0|                 0|         0|               0|                0|            0|             0|    8|        4|       0.00|           0.00|       0.00|           0.00|         0.50|         0.38|              0.00|           255|                10|                  0.04|                  0.34|                       0.04|                       0.00|                0.00|                    0.00|                0.00|                    0.00|  2.0|              1.0|        6.0|                  2.0|             1.0|       6.0|    0.0|                 2.0|\n",
            "|       0|        0|        0|   0|             0|     0|   0|                0|        0|              0|         0|           0|       0|                 0|         0|               0|                0|            0|             0|  137|        4|       0.00|           0.00|       1.00|           1.00|         0.03|         0.06|              0.00|           255|                 4|                  0.02|                  0.05|                       0.00|                       0.00|                0.00|                    0.00|                1.00|                    1.00|  1.0|              1.0|        1.0|                  1.0|             1.0|       1.0|    2.0|                 1.0|\n",
            "|       0|     1032|        0|   0|             0|     0|   0|                0|        0|              0|         0|           0|       0|                 0|         0|               0|                0|            0|             0|  250|      250|       0.00|           0.00|       0.00|           0.00|         1.00|         0.00|              0.00|           255|               255|                  1.00|                  0.00|                       1.00|                       0.00|                0.00|                    0.00|                0.00|                    0.00|  0.0|              0.0|        0.0|                  0.0|             0.0|       0.0|    0.0|                 0.0|\n",
            "|       0|        0|        0|   0|             0|     0|   0|                0|        0|              0|         0|           0|       0|                 0|         0|               0|                0|            0|             0|   61|       10|       0.00|           0.00|       1.00|           1.00|         0.16|         0.08|              0.00|           255|                10|                  0.04|                  0.06|                       0.00|                       0.00|                0.00|                    0.00|                1.00|                    1.00|  1.0|              1.0|        1.0|                  1.0|             1.0|       1.0|    2.0|                 1.0|\n",
            "|       0|      328|      535|   0|             0|     0|   0|                0|        1|              0|         0|           0|       0|                 0|         0|               0|                0|            0|             0|    6|        6|       0.00|           0.00|       0.00|           0.00|         1.00|         0.00|              0.00|           169|               255|                  1.00|                  0.00|                       0.01|                       0.03|                0.00|                    0.00|                0.00|                    0.00|  2.0|              1.0|        2.0|                  2.0|             1.0|       2.0|    0.0|                 2.0|\n",
            "+--------+---------+---------+----+--------------+------+----+-----------------+---------+---------------+----------+------------+--------+------------------+----------+----------------+-----------------+-------------+--------------+-----+---------+-----------+---------------+-----------+---------------+-------------+-------------+------------------+--------------+------------------+----------------------+----------------------+---------------------------+---------------------------+--------------------+------------------------+--------------------+------------------------+-----+-----------------+-----------+---------------------+----------------+----------+-------+--------------------+\n",
            "only showing top 5 rows\n",
            "\n"
          ]
        }
      ]
    },
    {
      "cell_type": "code",
      "source": [
        "\n",
        "from pyspark.sql.functions import col\n",
        "\n",
        "for column in df.columns:\n",
        "  df = df.withColumn(column, col(column).cast(\"double\"))\n",
        "\n"
      ],
      "metadata": {
        "id": "44XxJU3B1qUE"
      },
      "execution_count": null,
      "outputs": []
    },
    {
      "cell_type": "code",
      "source": [
        "df.printSchema()"
      ],
      "metadata": {
        "colab": {
          "base_uri": "https://localhost:8080/"
        },
        "id": "KehsE0-l2P21",
        "outputId": "387329d4-3699-42b8-e514-e1b87a083fa1"
      },
      "execution_count": null,
      "outputs": [
        {
          "output_type": "stream",
          "name": "stdout",
          "text": [
            "root\n",
            " |-- duration: double (nullable = true)\n",
            " |-- src_bytes: double (nullable = true)\n",
            " |-- dst_bytes: double (nullable = true)\n",
            " |-- land: double (nullable = true)\n",
            " |-- wrong_fragment: double (nullable = true)\n",
            " |-- urgent: double (nullable = true)\n",
            " |-- host: double (nullable = true)\n",
            " |-- num_failed_logins: double (nullable = true)\n",
            " |-- logged_in: double (nullable = true)\n",
            " |-- num_compromised: double (nullable = true)\n",
            " |-- root_shell: double (nullable = true)\n",
            " |-- su_attempted: double (nullable = true)\n",
            " |-- num_root: double (nullable = true)\n",
            " |-- num_file_creations: double (nullable = true)\n",
            " |-- num_shells: double (nullable = true)\n",
            " |-- num_access_files: double (nullable = true)\n",
            " |-- num_outbound_cmds: double (nullable = true)\n",
            " |-- is_host_login: double (nullable = true)\n",
            " |-- is_guest_login: double (nullable = true)\n",
            " |-- count: double (nullable = true)\n",
            " |-- srv_count: double (nullable = true)\n",
            " |-- serror_rate: double (nullable = true)\n",
            " |-- srv_serror_rate: double (nullable = true)\n",
            " |-- rerror_rate: double (nullable = true)\n",
            " |-- srv_rerror_rate: double (nullable = true)\n",
            " |-- same_srv_rate: double (nullable = true)\n",
            " |-- diff_srv_rate: double (nullable = true)\n",
            " |-- srv_diff_host_rate: double (nullable = true)\n",
            " |-- dst_host_count: double (nullable = true)\n",
            " |-- dst_host_srv_count: double (nullable = true)\n",
            " |-- dst_host_same_srv_rate: double (nullable = true)\n",
            " |-- dst_host_diff_srv_rate: double (nullable = true)\n",
            " |-- dst_host_same_src_port_rate: double (nullable = true)\n",
            " |-- dst_host_srv_diff_host_rate: double (nullable = true)\n",
            " |-- dst_host_serror_rate: double (nullable = true)\n",
            " |-- dst_host_srv_serror_rate: double (nullable = true)\n",
            " |-- dst_host_rerror_rate: double (nullable = true)\n",
            " |-- dst_host_srv_rerror_rate: double (nullable = true)\n",
            " |-- label: double (nullable = false)\n",
            " |-- protocol_type_ind: double (nullable = false)\n",
            " |-- service_ind: double (nullable = false)\n",
            " |-- connection_status_ind: double (nullable = false)\n",
            " |-- protocol_type_id: double (nullable = false)\n",
            " |-- service_id: double (nullable = false)\n",
            " |-- flag_id: double (nullable = false)\n",
            " |-- connection_status_id: double (nullable = false)\n",
            "\n"
          ]
        }
      ]
    },
    {
      "cell_type": "code",
      "source": [
        "features_cols = [col for col in df.columns if col != 'label']\n",
        "\n",
        "# Create a vectorassembler with all input features\n",
        "assembler = VectorAssembler(inputCols = features_cols, outputCol = 'features')\n",
        "data = assembler.transform(df)\n",
        "\n",
        "data = data.select('features', 'label')\n",
        "\n",
        "data.show(5, truncate = False)"
      ],
      "metadata": {
        "colab": {
          "base_uri": "https://localhost:8080/"
        },
        "id": "OSzZZeGI2ZQL",
        "outputId": "085646d3-9e96-4f17-daf8-0c24bdffac17"
      },
      "execution_count": null,
      "outputs": [
        {
          "output_type": "stream",
          "name": "stdout",
          "text": [
            "+------------------------------------------------------------------------------------------------------------------------------------------------------+-----+\n",
            "|features                                                                                                                                              |label|\n",
            "+------------------------------------------------------------------------------------------------------------------------------------------------------+-----+\n",
            "|(45,[1,8,19,20,25,26,28,29,30,31,32,38,39,40,41,42,44],[7233.0,1.0,8.0,4.0,0.5,0.38,255.0,10.0,0.04,0.34,0.04,1.0,6.0,2.0,1.0,6.0,2.0])               |2.0  |\n",
            "|(45,[19,20,23,24,25,26,28,29,30,31,36,37,38,39,40,41,42,43,44],[137.0,4.0,1.0,1.0,0.03,0.06,255.0,4.0,0.02,0.05,1.0,1.0,1.0,1.0,1.0,1.0,1.0,2.0,1.0]) |1.0  |\n",
            "|(45,[1,19,20,25,28,29,30,32],[1032.0,250.0,250.0,1.0,255.0,255.0,1.0,1.0])                                                                            |0.0  |\n",
            "|(45,[19,20,23,24,25,26,28,29,30,31,36,37,38,39,40,41,42,43,44],[61.0,10.0,1.0,1.0,0.16,0.08,255.0,10.0,0.04,0.06,1.0,1.0,1.0,1.0,1.0,1.0,1.0,2.0,1.0])|1.0  |\n",
            "|(45,[1,2,8,19,20,25,28,29,30,32,33,38,39,40,41,42,44],[328.0,535.0,1.0,6.0,6.0,1.0,169.0,255.0,1.0,0.01,0.03,1.0,2.0,2.0,1.0,2.0,2.0])                |2.0  |\n",
            "+------------------------------------------------------------------------------------------------------------------------------------------------------+-----+\n",
            "only showing top 5 rows\n",
            "\n"
          ]
        }
      ]
    },
    {
      "cell_type": "markdown",
      "source": [
        "# Normalization and Standarization"
      ],
      "metadata": {
        "id": "h35UJoOF5X2y"
      }
    },
    {
      "cell_type": "code",
      "source": [
        "#standard scaler\n",
        "#scaler = StandardScaler(inputCol = \"features\", outputCol = \"scaledFeatures\")\n",
        "\n",
        "#MinMax (x - Min)/ (Max - min)\n",
        "#scaler = MinMaxScaler(inputCol = \"features\", outputCol = \"scaledFeatures\")\n",
        "\n",
        "#robust scaler (X - med)/ IQR  -----IQR = Q3- Q1\n",
        "\n",
        "scaler = RobustScaler(inputCol = \"features\", outputCol = \"scaledFeaturess\")\n",
        "\n",
        "scaler_model = scaler.fit(data)\n",
        "data = scaler_model.transform(data)\n",
        "\n",
        "data = data.select(\"scaledFeaturess\", \"label\")\n",
        "data.show(3, truncate = False)"
      ],
      "metadata": {
        "colab": {
          "base_uri": "https://localhost:8080/"
        },
        "id": "swJkPEEo6lAg",
        "outputId": "7ae9180a-2930-47e3-8957-795ba6dfd081"
      },
      "execution_count": null,
      "outputs": [
        {
          "output_type": "stream",
          "name": "stdout",
          "text": [
            "+----------------------------------------------------------------------------------------------------------------------------------------------------------------------------------------------------------------+-----+\n",
            "|scaledFeaturess                                                                                                                                                                                                 |label|\n",
            "+----------------------------------------------------------------------------------------------------------------------------------------------------------------------------------------------------------------+-----+\n",
            "|(45,[1,8,19,20,25,26,28,29,30,31,32,38,39,40,41,42,44],[7.328267477203648,0.0,0.02030456852791878,0.007984031936127744,0.0,0.0,0.0,0.04784688995215311,0.06779661016949151,8.5,0.04,1.0,6.0,2.0,1.0,6.0,2.0])   |2.0  |\n",
            "|(45,[19,20,23,24,25,26,28,29,30,31,36,37,38,39,40,41,42,43,44],[0.3477157360406091,0.007984031936127744,0.0,0.0,0.0,0.0,0.0,0.019138755980861243,0.033898305084745756,1.25,0.0,0.0,1.0,1.0,1.0,1.0,1.0,0.0,1.0])|1.0  |\n",
            "|(45,[1,19,20,25,28,29,30,32],[1.0455927051671734,0.6345177664974618,0.499001996007984,0.0,0.0,1.2200956937799043,1.6949152542372878,1.0])                                                                       |0.0  |\n",
            "+----------------------------------------------------------------------------------------------------------------------------------------------------------------------------------------------------------------+-----+\n",
            "only showing top 3 rows\n",
            "\n"
          ]
        }
      ]
    },
    {
      "cell_type": "markdown",
      "source": [
        "# Split Data: Training and Testing"
      ],
      "metadata": {
        "id": "nrzMdlzX-Y_x"
      }
    },
    {
      "cell_type": "code",
      "source": [
        "train_data, test_data = data.randomSplit([0.7, 0.3], seed = 1234)\n",
        "train_data.show(2, truncate = False)"
      ],
      "metadata": {
        "colab": {
          "base_uri": "https://localhost:8080/"
        },
        "id": "CXq4i60w-evu",
        "outputId": "1728ea0e-d0df-439e-8ff2-fb37fbfd0082"
      },
      "execution_count": null,
      "outputs": [
        {
          "output_type": "stream",
          "name": "stdout",
          "text": [
            "+----------------------------------------------------------------------------------------------------------------------------------------------------------------------------------------------------------------------------------------------------------------+-----+\n",
            "|scaledFeaturess                                                                                                                                                                                                                                                 |label|\n",
            "+----------------------------------------------------------------------------------------------------------------------------------------------------------------------------------------------------------------------------------------------------------------+-----+\n",
            "|(45,[0,1,2,6,8,9,10,12,13,14,15,19,20,25,28,29,30,32,38,39,40,41,42,44],[0.0,1.430597771023303,0.0,0.0,0.0,0.0,0.0,0.0,0.0,0.0,0.0,0.0025380710659898475,0.001996007984031936,0.0,0.0,0.004784688995215311,1.6949152542372878,1.0,1.0,11.0,19.0,1.0,11.0,19.0]) |19.0 |\n",
            "|(45,[0,1,2,6,8,9,10,13,14,19,20,25,28,29,30,32,33,37,38,39,40,41,42,44],[0.0,0.28470111448834856,0.0,0.0,0.0,0.0,0.0,0.0,0.0,0.0025380710659898475,0.001996007984031936,0.0,0.0,0.04784688995215311,1.6949152542372878,1.0,0.0,0.0,1.0,11.0,17.0,1.0,11.0,17.0])|17.0 |\n",
            "+----------------------------------------------------------------------------------------------------------------------------------------------------------------------------------------------------------------------------------------------------------------+-----+\n",
            "only showing top 2 rows\n",
            "\n"
          ]
        }
      ]
    },
    {
      "cell_type": "markdown",
      "source": [
        "# Apply Naive Bayes model"
      ],
      "metadata": {
        "id": "TUHGNWlTCJfR"
      }
    },
    {
      "cell_type": "code",
      "source": [
        "nb = NaiveBayes(featuresCol= \"scaledFeaturess\", labelCol = \"label\", smoothing= 0.5 ) # (0.1, 1)\n",
        "model = nb.fit(train_data)\n",
        "\n",
        "nb_predictions_test = model.transform(test_data)"
      ],
      "metadata": {
        "id": "dVz9j2F5CONl"
      },
      "execution_count": null,
      "outputs": []
    },
    {
      "cell_type": "code",
      "source": [
        "nb_predictions_test.select('label', 'prediction').show(25)"
      ],
      "metadata": {
        "colab": {
          "base_uri": "https://localhost:8080/"
        },
        "id": "0LEGHvhZCvOD",
        "outputId": "33363a75-1a32-4396-f317-6347f53744f9"
      },
      "execution_count": null,
      "outputs": [
        {
          "output_type": "stream",
          "name": "stdout",
          "text": [
            "+-----+----------+\n",
            "|label|prediction|\n",
            "+-----+----------+\n",
            "| 18.0|       5.0|\n",
            "| 11.0|      11.0|\n",
            "| 12.0|      12.0|\n",
            "|  3.0|       3.0|\n",
            "|  3.0|       3.0|\n",
            "|  3.0|       3.0|\n",
            "|  3.0|       3.0|\n",
            "|  3.0|       3.0|\n",
            "| 18.0|      14.0|\n",
            "| 14.0|      16.0|\n",
            "| 12.0|      12.0|\n",
            "| 16.0|      16.0|\n",
            "|  2.0|       1.0|\n",
            "|  7.0|       2.0|\n",
            "|  7.0|       2.0|\n",
            "|  7.0|       2.0|\n",
            "|  7.0|       2.0|\n",
            "|  7.0|       2.0|\n",
            "|  7.0|       2.0|\n",
            "|  7.0|       2.0|\n",
            "|  7.0|       2.0|\n",
            "|  7.0|       2.0|\n",
            "|  7.0|       2.0|\n",
            "|  7.0|       2.0|\n",
            "|  7.0|       2.0|\n",
            "+-----+----------+\n",
            "only showing top 25 rows\n",
            "\n"
          ]
        }
      ]
    },
    {
      "cell_type": "markdown",
      "source": [
        "# Evaluate the Model"
      ],
      "metadata": {
        "id": "AAwdP7RDCmpX"
      }
    },
    {
      "cell_type": "markdown",
      "source": [
        "# Confusion Matrix"
      ],
      "metadata": {
        "id": "NQkNdRycCrzC"
      }
    },
    {
      "cell_type": "code",
      "source": [
        "cm = nb_predictions_test.groupBy('label', 'prediction'). count()\n",
        "cm.show(cm.count(), truncate = False)"
      ],
      "metadata": {
        "colab": {
          "base_uri": "https://localhost:8080/"
        },
        "id": "qc0NMslpFSFl",
        "outputId": "a44e3de5-6050-4340-c006-522e9538badb"
      },
      "execution_count": null,
      "outputs": [
        {
          "output_type": "stream",
          "name": "stdout",
          "text": [
            "+-----+----------+-----+\n",
            "|label|prediction|count|\n",
            "+-----+----------+-----+\n",
            "|6.0  |1.0       |7    |\n",
            "|6.0  |8.0       |34   |\n",
            "|13.0 |11.0      |12   |\n",
            "|7.0  |12.0      |66   |\n",
            "|5.0  |1.0       |3    |\n",
            "|18.0 |14.0      |2    |\n",
            "|5.0  |4.0       |26   |\n",
            "|12.0 |12.0      |4    |\n",
            "|9.0  |10.0      |8    |\n",
            "|1.0  |1.0       |31935|\n",
            "|21.0 |16.0      |2    |\n",
            "|4.0  |5.0       |1    |\n",
            "|4.0  |2.0       |17   |\n",
            "|10.0 |10.0      |5    |\n",
            "|14.0 |16.0      |1    |\n",
            "|2.0  |7.0       |35   |\n",
            "|22.0 |16.0      |1    |\n",
            "|6.0  |4.0       |264  |\n",
            "|14.0 |14.0      |6    |\n",
            "|7.0  |6.0       |16   |\n",
            "|7.0  |2.0       |188  |\n",
            "|2.0  |2.0       |26361|\n",
            "|4.0  |8.0       |15   |\n",
            "|8.0  |4.0       |13   |\n",
            "|2.0  |15.0      |8    |\n",
            "|18.0 |5.0       |1    |\n",
            "|2.0  |3.0       |59   |\n",
            "|7.0  |10.0      |3    |\n",
            "|4.0  |4.0       |397  |\n",
            "|20.0 |20.0      |1    |\n",
            "|9.0  |9.0       |74   |\n",
            "|10.0 |4.0       |31   |\n",
            "|2.0  |4.0       |1760 |\n",
            "|10.0 |5.0       |36   |\n",
            "|6.0  |10.0      |9    |\n",
            "|8.0  |8.0       |255  |\n",
            "|7.0  |11.0      |3    |\n",
            "|2.0  |1.0       |788  |\n",
            "|2.0  |6.0       |5    |\n",
            "|16.0 |16.0      |1    |\n",
            "|1.0  |2.0       |12   |\n",
            "|5.0  |5.0       |356  |\n",
            "|0.0  |0.0       |83792|\n",
            "|12.0 |11.0      |2    |\n",
            "|5.0  |9.0       |3    |\n",
            "|0.0  |2.0       |12   |\n",
            "|10.0 |8.0       |11   |\n",
            "|3.0  |3.0       |651  |\n",
            "|2.0  |8.0       |1    |\n",
            "|17.0 |10.0      |1    |\n",
            "|4.0  |1.0       |4    |\n",
            "|2.0  |5.0       |266  |\n",
            "|11.0 |11.0      |23   |\n",
            "|19.0 |12.0      |1    |\n",
            "|15.0 |11.0      |3    |\n",
            "|5.0  |2.0       |2    |\n",
            "|19.0 |14.0      |2    |\n",
            "|6.0  |5.0       |1    |\n",
            "|9.0  |15.0      |1    |\n",
            "|6.0  |9.0       |1    |\n",
            "|17.0 |12.0      |1    |\n",
            "|12.0 |14.0      |3    |\n",
            "|13.0 |17.0      |1    |\n",
            "+-----+----------+-----+\n",
            "\n"
          ]
        }
      ]
    },
    {
      "cell_type": "code",
      "source": [
        "confusion_matrix = cm.groupBy(\"label\").pivot(\"prediction\").sum(\"count\").na.fill(0)\n",
        "confusion_matrix.show()"
      ],
      "metadata": {
        "colab": {
          "base_uri": "https://localhost:8080/"
        },
        "id": "-FVFEyYeGhHC",
        "outputId": "2b5bb66b-2759-49bc-8db7-b2e5bee9cb56"
      },
      "execution_count": null,
      "outputs": [
        {
          "output_type": "stream",
          "name": "stdout",
          "text": [
            "+-----+-----+-----+-----+---+----+---+---+---+---+---+----+----+----+----+----+----+----+----+\n",
            "|label|  0.0|  1.0|  2.0|3.0| 4.0|5.0|6.0|7.0|8.0|9.0|10.0|11.0|12.0|14.0|15.0|16.0|17.0|20.0|\n",
            "+-----+-----+-----+-----+---+----+---+---+---+---+---+----+----+----+----+----+----+----+----+\n",
            "|  8.0|    0|    0|    0|  0|  13|  0|  0|  0|255|  0|   0|   0|   0|   0|   0|   0|   0|   0|\n",
            "|  0.0|83792|    0|   12|  0|   0|  0|  0|  0|  0|  0|   0|   0|   0|   0|   0|   0|   0|   0|\n",
            "|  7.0|    0|    0|  188|  0|   0|  0| 16|  0|  0|  0|   3|   3|  66|   0|   0|   0|   0|   0|\n",
            "| 18.0|    0|    0|    0|  0|   0|  1|  0|  0|  0|  0|   0|   0|   0|   2|   0|   0|   0|   0|\n",
            "|  1.0|    0|31935|   12|  0|   0|  0|  0|  0|  0|  0|   0|   0|   0|   0|   0|   0|   0|   0|\n",
            "|  4.0|    0|    4|   17|  0| 397|  1|  0|  0| 15|  0|   0|   0|   0|   0|   0|   0|   0|   0|\n",
            "| 11.0|    0|    0|    0|  0|   0|  0|  0|  0|  0|  0|   0|  23|   0|   0|   0|   0|   0|   0|\n",
            "| 21.0|    0|    0|    0|  0|   0|  0|  0|  0|  0|  0|   0|   0|   0|   0|   0|   2|   0|   0|\n",
            "| 14.0|    0|    0|    0|  0|   0|  0|  0|  0|  0|  0|   0|   0|   0|   6|   0|   1|   0|   0|\n",
            "| 22.0|    0|    0|    0|  0|   0|  0|  0|  0|  0|  0|   0|   0|   0|   0|   0|   1|   0|   0|\n",
            "|  3.0|    0|    0|    0|651|   0|  0|  0|  0|  0|  0|   0|   0|   0|   0|   0|   0|   0|   0|\n",
            "| 19.0|    0|    0|    0|  0|   0|  0|  0|  0|  0|  0|   0|   0|   1|   2|   0|   0|   0|   0|\n",
            "|  2.0|    0|  788|26361| 59|1760|266|  5| 35|  1|  0|   0|   0|   0|   0|   8|   0|   0|   0|\n",
            "| 17.0|    0|    0|    0|  0|   0|  0|  0|  0|  0|  0|   1|   0|   1|   0|   0|   0|   0|   0|\n",
            "| 10.0|    0|    0|    0|  0|  31| 36|  0|  0| 11|  0|   5|   0|   0|   0|   0|   0|   0|   0|\n",
            "| 13.0|    0|    0|    0|  0|   0|  0|  0|  0|  0|  0|   0|  12|   0|   0|   0|   0|   1|   0|\n",
            "|  6.0|    0|    7|    0|  0| 264|  1|  0|  0| 34|  1|   9|   0|   0|   0|   0|   0|   0|   0|\n",
            "| 20.0|    0|    0|    0|  0|   0|  0|  0|  0|  0|  0|   0|   0|   0|   0|   0|   0|   0|   1|\n",
            "|  5.0|    0|    3|    2|  0|  26|356|  0|  0|  0|  3|   0|   0|   0|   0|   0|   0|   0|   0|\n",
            "| 15.0|    0|    0|    0|  0|   0|  0|  0|  0|  0|  0|   0|   3|   0|   0|   0|   0|   0|   0|\n",
            "+-----+-----+-----+-----+---+----+---+---+---+---+---+----+----+----+----+----+----+----+----+\n",
            "only showing top 20 rows\n",
            "\n"
          ]
        }
      ]
    },
    {
      "cell_type": "markdown",
      "source": [
        "# Additional Performance metrics"
      ],
      "metadata": {
        "id": "b4DuHpxrGyb6"
      }
    },
    {
      "cell_type": "markdown",
      "source": [
        "\n",
        "\n",
        "# Hamming Loss and Log Loss"
      ],
      "metadata": {
        "id": "9gdN6xLVG1iU"
      }
    },
    {
      "cell_type": "code",
      "source": [
        "evaluator = MulticlassClassificationEvaluator(predictionCol = 'prediction', labelCol = 'label')\n",
        "\n",
        "# compute\n",
        "accuracy = evaluator.evaluate(nb_predictions_test, {evaluator.metricName: \"accuracy\"})\n",
        "f1_score = evaluator.evaluate(nb_predictions_test, {evaluator.metricName: \"f1\"})\n",
        "precision = evaluator.evaluate(nb_predictions_test, {evaluator.metricName: \"precisionByLabel\"})\n",
        "recall = evaluator.evaluate(nb_predictions_test, {evaluator.metricName: \"recallByLabel\"})\n",
        "hamming = evaluator.evaluate(nb_predictions_test, {evaluator.metricName: \"hammingLoss\"})\n",
        "log = evaluator.evaluate(nb_predictions_test, {evaluator.metricName: \"logLoss\"})\n",
        "\n",
        "# print\n",
        "print(\"Accuracy:\", round(accuracy, 5) * 100)\n",
        "print(\"f1_score:\", round(f1_score, 5) * 100)\n",
        "print(\"precision:\", round(precision, 5) * 100)\n",
        "print(\"recall:\", round(recall, 5) * 100)\n",
        "print(\"hamming:\", hamming)\n",
        "print(\"log loss:\", log)"
      ],
      "metadata": {
        "colab": {
          "base_uri": "https://localhost:8080/"
        },
        "id": "AHCdvjFaGzgG",
        "outputId": "490f6258-8bc2-499c-cf06-9ce1880e2f55"
      },
      "execution_count": null,
      "outputs": [
        {
          "output_type": "stream",
          "name": "stdout",
          "text": [
            "Accuracy: 97.465\n",
            "f1_score: 97.775\n",
            "precision: 100.0\n",
            "recall: 99.98599999999999\n",
            "hamming: 0.025351788242786392\n",
            "log loss: 0.4405305855092477\n"
          ]
        }
      ]
    },
    {
      "cell_type": "markdown",
      "source": [
        "# Optimization (Grid Search and Random Search)"
      ],
      "metadata": {
        "id": "Sp05agEIJt8H"
      }
    },
    {
      "cell_type": "code",
      "source": [
        "from pyspark.ml.tuning import ParamGridBuilder, CrossValidator\n",
        "\n"
      ],
      "metadata": {
        "id": "R6FtILFnJwXi"
      },
      "execution_count": null,
      "outputs": []
    },
    {
      "cell_type": "markdown",
      "source": [
        "# Grid Search results"
      ],
      "metadata": {
        "id": "XuWoNbwTJzZh"
      }
    },
    {
      "cell_type": "code",
      "source": [
        "nb = NaiveBayes(featuresCol = 'scaledFeaturess', labelCol = 'label')\n",
        "\n",
        "# Define the parameter grid for hyperparameter tuning\n",
        "param_grid = ParamGridBuilder() \\\n",
        "              .addGrid(nb.smoothing, [0.1, 0.15, 0.2, 0.27, 0.3, 0.33, 0.4, 0.48, 0.5, 0.6, 0.7, 0.72, 0.76, 0.8, 0.9, 1]) \\\n",
        "              .build()\n",
        "\n",
        "# Define the evaluator\n",
        "evaluator = MulticlassClassificationEvaluator(predictionCol = 'prediction', labelCol = 'label', metricName = 'accuracy')\n",
        "\n",
        "# Define the cross_validator\n",
        "crossval = CrossValidator(estimator = nb,\n",
        "                          estimatorParamMaps = param_grid,\n",
        "                          evaluator = evaluator,\n",
        "                          numFolds = 5)\n",
        "\n",
        "# Train the models\n",
        "cv_model = crossval.fit(train_data)\n",
        "\n",
        "# Get the best model\n",
        "best_model = cv_model.bestModel\n",
        "\n",
        "# Make predictions\n",
        "predictions = best_model.transform(test_data)\n",
        "\n",
        "# Evaluate\n",
        "accuracy = evaluator.evaluate(predictions)\n",
        "\n",
        "# Get the best smoothing value\n",
        "best_smoothing = best_model.getOrDefault(\"smoothing\")\n",
        "\n",
        "# Print\n",
        "print(\"best smoothing value: \" , best_smoothing)\n",
        "print(\"accuracy: \", accuracy)"
      ],
      "metadata": {
        "colab": {
          "base_uri": "https://localhost:8080/"
        },
        "id": "Rv-C2PeLJzBS",
        "outputId": "063acffc-cf62-4f1c-a2a2-f50ecdd2cdba"
      },
      "execution_count": null,
      "outputs": [
        {
          "output_type": "stream",
          "name": "stdout",
          "text": [
            "best smoothing value:  0.1\n",
            "accuracy:  0.9749192089591675\n"
          ]
        }
      ]
    }
  ]
}